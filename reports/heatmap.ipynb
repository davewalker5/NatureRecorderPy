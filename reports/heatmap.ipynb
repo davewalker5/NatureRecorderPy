{
 "cells": [
  {
   "cell_type": "markdown",
   "id": "28ca77da",
   "metadata": {},
   "source": [
    "# Nature Recorder Heatmap\n",
    "\n",
    "This notebook generates and exports a heatmap of species sightings for a category for a given location and year. To use it, update the year, location, category and required export format in the first code cell, below, before running the notebook."
   ]
  },
  {
   "cell_type": "code",
   "execution_count": null,
   "id": "d90edda3",
   "metadata": {},
   "outputs": [],
   "source": [
    "# Year to report on\n",
    "year = \"\"\n",
    "\n",
    "# Name of the location to report on\n",
    "location = \"\"\n",
    "\n",
    "# Species category to report on\n",
    "category = \"\"\n",
    "\n",
    "# Export format - either PNG or PDF\n",
    "export_format = \"PNG\""
   ]
  },
  {
   "cell_type": "code",
   "execution_count": null,
   "id": "bd8ad911",
   "metadata": {},
   "outputs": [],
   "source": [
    "from pathlib import Path\n",
    "\n",
    "# Read the query file\n",
    "query_file_path = Path(\"sql\") / \"sightings.sql\"\n",
    "with open(query_file_path.absolute(), \"r\") as f:\n",
    "    query = f.read().replace(\"\\n\", \" \")\n",
    "\n",
    "# Replace the location and year placeholders\n",
    "query = query.replace(\"$YEAR\", year) \\\n",
    "             .replace(\"$LOCATION\", location) \\\n",
    "             .replace(\"$CATEGORY\", category) \\\n",
    "             .replace(\"$SPECIES\", \"\")"
   ]
  },
  {
   "cell_type": "code",
   "execution_count": null,
   "id": "2533c4ad",
   "metadata": {},
   "outputs": [],
   "source": [
    "import pandas as pd\n",
    "import sqlite3\n",
    "import os\n",
    "\n",
    "# Connect to the database, execute the query and read the results into a dataframe\n",
    "database_path = os.environ[\"NATURE_RECORDER_DB\"]\n",
    "connection = sqlite3.connect(database_path)\n",
    "df = pd.read_sql_query(query, connection, parse_dates=[\"Date\"])"
   ]
  },
  {
   "cell_type": "code",
   "execution_count": null,
   "id": "4cf1ec61",
   "metadata": {},
   "outputs": [],
   "source": [
    "import calendar\n",
    "\n",
    "# Pre-process the data to provide a heatmap data source\n",
    "df[\"Month\"] = df[\"Date\"].dt.month\n",
    "heatmap_data = df.groupby([\"Species\", \"Month\"]).size().unstack(fill_value=0)\n",
    "heatmap_data.columns = [calendar.month_abbr[m] for m in heatmap_data.columns]"
   ]
  },
  {
   "cell_type": "code",
   "execution_count": null,
   "id": "20afb45a",
   "metadata": {},
   "outputs": [],
   "source": [
    "import seaborn as sns\n",
    "import matplotlib.pyplot as plt\n",
    "\n",
    "# Generate the heatmap\n",
    "plt.figure(figsize=(12, 24))\n",
    "sns.heatmap(heatmap_data, cmap=\"YlOrRd\", annot=False)\n",
    "plt.title(f\"Number of Sightings of {category} at {location} in {year}\")\n",
    "plt.xlabel(\"\")\n",
    "plt.ylabel(\"\")\n",
    "\n",
    "# Create the folder to hold exported reports\n",
    "export_folder_path = Path(\"exported\")\n",
    "export_folder_path.mkdir(parents=True, exist_ok=True)\n",
    "\n",
    "# Export to PNG\n",
    "if export_format.casefold() == \"png\":\n",
    "    export_file_path = export_folder_path / f\"{year}-{category}-Heatmap.png\"\n",
    "    plt.savefig(export_file_path.absolute(), format=\"png\", dpi=300, bbox_inches=\"tight\")\n",
    "\n",
    "# Export to PDF\n",
    "if export_format.casefold() == \"pdf\":\n",
    "    export_file_path = Path(\"exported\") / f\"{year}-{category}-Heatmap.pdf\"\n",
    "    plt.savefig(export_file_path.absolute(), format=\"pdf\", bbox_inches=\"tight\")\n",
    "\n",
    "# And show the plot\n",
    "plt.show()"
   ]
  }
 ],
 "metadata": {
  "kernelspec": {
   "display_name": "venv",
   "language": "python",
   "name": "python3"
  },
  "language_info": {
   "codemirror_mode": {
    "name": "ipython",
    "version": 3
   },
   "file_extension": ".py",
   "mimetype": "text/x-python",
   "name": "python",
   "nbconvert_exporter": "python",
   "pygments_lexer": "ipython3",
   "version": "3.11.4"
  }
 },
 "nbformat": 4,
 "nbformat_minor": 5
}
