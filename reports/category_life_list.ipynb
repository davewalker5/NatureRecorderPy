{
 "cells": [
  {
   "cell_type": "markdown",
   "id": "d1c0d0e6",
   "metadata": {},
   "source": [
    "# Category Life List\n",
    "\n",
    "This notebook generates and exports a life list for all sightings of the species in a category. For each species in that category, the total number of sightings of the species and the number of locations where sightings were recorded are shown alongside the species name. To use it, update the category in the first code cell, below, before running the notebook."
   ]
  },
  {
   "cell_type": "code",
   "execution_count": null,
   "id": "e2d768fd",
   "metadata": {},
   "outputs": [],
   "source": [
    "# Species category to report on\n",
    "category = \"\""
   ]
  },
  {
   "cell_type": "code",
   "execution_count": null,
   "id": "1b9351fe",
   "metadata": {},
   "outputs": [],
   "source": [
    "from pathlib import Path\n",
    "import sqlparse\n",
    "\n",
    "# Read the query file\n",
    "query_file_path = Path(\"sql\") / \"category_life_list.sql\"\n",
    "with open(query_file_path.absolute(), \"r\") as f:\n",
    "    query = f.read().replace(\"\\n\", \" \")\n",
    "\n",
    "# Replace the placeholders\n",
    "query = query.replace(\"$CATEGORY\", category)\n",
    "\n",
    "# Show a pretty-printed form of the query\n",
    "print(sqlparse.format(query, reindent=True, keyword_case='upper'))"
   ]
  },
  {
   "cell_type": "code",
   "execution_count": null,
   "id": "0a3f55c5",
   "metadata": {},
   "outputs": [],
   "source": [
    "import pandas as pd\n",
    "import sqlite3\n",
    "import os\n",
    "\n",
    "# Connect to the database, execute the query and read the results into a dataframe\n",
    "database_path = os.environ[\"NATURE_RECORDER_DB\"]\n",
    "connection = sqlite3.connect(database_path)\n",
    "df = pd.read_sql_query(query, connection, parse_dates=[\"Date\"])\n",
    "\n",
    "# Check there is some data\n",
    "if not df.shape[0]:\n",
    "    message = f\"No data found for category '{category}'\"\n",
    "    raise ValueError(message)"
   ]
  },
  {
   "cell_type": "code",
   "execution_count": null,
   "id": "a1b8b432",
   "metadata": {},
   "outputs": [],
   "source": [
    "# Aggregate the data to produce the life list\n",
    "life_list = (\n",
    "    df\n",
    "    .groupby(\"Species\")\n",
    "    .agg(\n",
    "        Sightings=(\"Count\", \"sum\"),\n",
    "        Locations=(\"Location\", pd.Series.nunique)\n",
    "    )\n",
    "    .reset_index()\n",
    "    .sort_values(by=\"Species\", ascending=True)\n",
    ")\n",
    "\n",
    "\n",
    "# Print the life list\n",
    "with pd.option_context('display.max_rows', None,\n",
    "                       'display.max_columns', None,\n",
    "                       'display.precision', 3,\n",
    "                       ):\n",
    "    display(life_list)"
   ]
  },
  {
   "cell_type": "code",
   "execution_count": null,
   "id": "7827f304",
   "metadata": {},
   "outputs": [],
   "source": [
    "import re\n",
    "\n",
    "# Create the folder to hold exported reports\n",
    "export_folder_path = Path(\"exported\")\n",
    "export_folder_path.mkdir(parents=True, exist_ok=True)\n",
    "\n",
    "# Export the life list\n",
    "clean_category = re.sub(\"[^0-9a-zA-Z ]+\", \"\", category).replace(\" \", \"-\")\n",
    "export_file_path = export_folder_path / f\"{clean_category}-Life-List.xlsx\"\n",
    "life_list.to_excel(export_file_path.absolute(), sheet_name=\"Life List\", index=False)"
   ]
  }
 ],
 "metadata": {
  "kernelspec": {
   "display_name": "venv",
   "language": "python",
   "name": "python3"
  },
  "language_info": {
   "codemirror_mode": {
    "name": "ipython",
    "version": 3
   },
   "file_extension": ".py",
   "mimetype": "text/x-python",
   "name": "python",
   "nbconvert_exporter": "python",
   "pygments_lexer": "ipython3",
   "version": "3.13.2"
  },
  "vscode": {
   "interpreter": {
    "hash": "f085c86085609b1ab2f295d8cd5b519618e19fd591a6919f4ec2f9290a6745f6"
   }
  }
 },
 "nbformat": 4,
 "nbformat_minor": 5
}
