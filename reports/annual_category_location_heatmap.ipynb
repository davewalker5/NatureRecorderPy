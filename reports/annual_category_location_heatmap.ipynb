{
 "cells": [
  {
   "cell_type": "markdown",
   "id": "28ca77da",
   "metadata": {},
   "source": [
    "# Category-Location Annual Heatmap\n",
    "\n",
    "This notebook generates and exports a heatmap of species sightings for a category for a given location and year. To use it, update the year, location, category and required export format in the first code cell, below, before running the notebook."
   ]
  },
  {
   "cell_type": "code",
   "execution_count": null,
   "id": "d90edda3",
   "metadata": {},
   "outputs": [],
   "source": [
    "# Year to report on\n",
    "year = \"\"\n",
    "\n",
    "# List of names of the locations to report on\n",
    "locations = [\"\"]\n",
    "\n",
    "# Species category to report on\n",
    "category = \"\"\n",
    "\n",
    "# Export format for the heatmap chart:\n",
    "# PNG     - export as PNG image\n",
    "# PDF     - export as PDF file\n",
    "# <blank> - do not export\n",
    "export_format = \"PNG\""
   ]
  },
  {
   "cell_type": "code",
   "execution_count": null,
   "id": "bd8ad911",
   "metadata": {},
   "outputs": [],
   "source": [
    "from pathlib import Path\n",
    "import sqlparse\n",
    "\n",
    "# Read the query file\n",
    "query_file_path = Path(\"sql\") / \"sightings.sql\"\n",
    "with open(query_file_path.absolute(), \"r\") as f:\n",
    "    query = f.read().replace(\"\\n\", \" \")\n",
    "\n",
    "# Generate a list of locations suitable for use in the IN clause in the query\n",
    "location_list = \", \".join([f\"'{l}'\" for l in locations])\n",
    "\n",
    "# Replace the location and year placeholders\n",
    "query = query.replace(\"$YEAR\", year) \\\n",
    "             .replace(\"$LOCATION\", location_list) \\\n",
    "             .replace(\"$CATEGORY\", category) \\\n",
    "             .replace(\"$SPECIES\", \"\")\n",
    "\n",
    "# Show a pretty-printed form of the query\n",
    "print(sqlparse.format(query, reindent=True, keyword_case='upper'))"
   ]
  },
  {
   "cell_type": "code",
   "execution_count": null,
   "id": "2533c4ad",
   "metadata": {},
   "outputs": [],
   "source": [
    "import pandas as pd\n",
    "import sqlite3\n",
    "import os\n",
    "\n",
    "# Connect to the database, execute the query and read the results into a dataframe\n",
    "database_path = os.environ[\"NATURE_RECORDER_DB\"]\n",
    "connection = sqlite3.connect(database_path)\n",
    "df = pd.read_sql_query(query, connection, parse_dates=[\"Date\"])\n",
    "\n",
    "# Check there is some data\n",
    "if not df.shape[0]:\n",
    "    locations_list = \", \".join(locations)\n",
    "    message = f\"No data found for category '{category}' at locations '{locations_list}' during '{year}'\"\n",
    "    raise ValueError(message)"
   ]
  },
  {
   "cell_type": "code",
   "execution_count": null,
   "id": "4cf1ec61",
   "metadata": {},
   "outputs": [],
   "source": [
    "import calendar\n",
    "import re\n",
    "\n",
    "# Create the folder to hold exported reports\n",
    "export_folder_path = Path(\"exported\")\n",
    "export_folder_path.mkdir(parents=True, exist_ok=True)\n",
    "\n",
    "# Pre-process the data to provide a heatmap data source\n",
    "df[\"Month\"] = df[\"Date\"].dt.month\n",
    "heatmap_data = df.groupby([\"Species\", \"Month\"])[\"Count\"].sum().unstack(fill_value=0)\n",
    "\n",
    "# Make sure all months are represented even if there are no sightings in the data set for that month\n",
    "for month in range(1, 13):\n",
    "    if month not in heatmap_data.columns:\n",
    "        heatmap_data[month] = 0\n",
    "\n",
    "# Re-order the columns in calendar order\n",
    "heatmap_data = heatmap_data[sorted(heatmap_data.columns)]\n",
    "\n",
    "# Set the labels to the month abbreviations rather than month numbers\n",
    "heatmap_data.columns = [calendar.month_abbr[m] for m in heatmap_data.columns]\n",
    "\n",
    "# Export the heatmap data to Excel\n",
    "locations_list = \"-\".join(locations)\n",
    "clean_locations = re.sub(\"[^0-9a-zA-Z ]+\", \"\", locations_list).replace(\" \", \"-\")\n",
    "export_file_path = export_folder_path / f\"{year}-{category}-{clean_locations}-Heatmap.xlsx\"\n",
    "heatmap_data.to_excel(export_file_path.absolute(), sheet_name=\"Sightings\", index=True)\n",
    "\n",
    "# Print the heatmap data\n",
    "with pd.option_context('display.max_rows', None,\n",
    "                       'display.max_columns', None,\n",
    "                       'display.precision', 3,\n",
    "                       ):\n",
    "    display(heatmap_data)"
   ]
  },
  {
   "cell_type": "code",
   "execution_count": null,
   "id": "20afb45a",
   "metadata": {},
   "outputs": [],
   "source": [
    "import seaborn as sns\n",
    "import matplotlib.pyplot as plt\n",
    "\n",
    "# Generate the heatmap\n",
    "plt.figure(figsize=(12, heatmap_data.shape[0] / 3))\n",
    "sns.heatmap(heatmap_data, cmap=\"YlOrRd\", annot=False)\n",
    "locations_list = \", \".join(locations)\n",
    "plt.title(f\"Number of Sightings of {category} at {locations_list} in {year}\")\n",
    "plt.xlabel(\"\")\n",
    "plt.ylabel(\"\")\n",
    "\n",
    "# Export to PNG\n",
    "if export_format.casefold() == \"png\":\n",
    "    export_file_path = export_folder_path / f\"{year}-{category}-{clean_locations}-Heatmap.png\"\n",
    "    plt.savefig(export_file_path.absolute(), format=\"png\", dpi=300, bbox_inches=\"tight\")\n",
    "\n",
    "# Export to PDF\n",
    "if export_format.casefold() == \"pdf\":\n",
    "    export_file_path = export_folder_path / f\"{year}-{category}-{clean_locations}-Heatmap.pdf\"\n",
    "    plt.savefig(export_file_path.absolute(), format=\"pdf\", bbox_inches=\"tight\")\n",
    "\n",
    "# And show the plot\n",
    "plt.show()"
   ]
  }
 ],
 "metadata": {
  "kernelspec": {
   "display_name": "Python 3",
   "language": "python",
   "name": "python3"
  },
  "language_info": {
   "codemirror_mode": {
    "name": "ipython",
    "version": 3
   },
   "file_extension": ".py",
   "mimetype": "text/x-python",
   "name": "python",
   "nbconvert_exporter": "python",
   "pygments_lexer": "ipython3",
   "version": "3.13.2"
  },
  "vscode": {
   "interpreter": {
    "hash": "7a792fcb311f9eb9f3c1b942a8c87ada8484712b89b670347c16a1088e0a1f69"
   }
  }
 },
 "nbformat": 4,
 "nbformat_minor": 5
}
